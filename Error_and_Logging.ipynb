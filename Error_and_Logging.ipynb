{
 "cells": [
  {
   "cell_type": "markdown",
   "id": "9b3a15cb",
   "metadata": {},
   "source": [
    "## Exceptions versus Syntax Errors\n",
    "* Syntax errors occur when the parser detects an incorrect statement\n",
    "* exception error occurs whenever syntactically correct Python code results in an error.\n",
    "* We can use raise to throw an exception if a condition occurs. The statement can be complemented with a custom exception. The program comes to a halt and displays our exception to screen, offering clues about what went wrong."
   ]
  },
  {
   "cell_type": "code",
   "execution_count": 21,
   "id": "fa623adb",
   "metadata": {},
   "outputs": [
    {
     "ename": "Exception",
     "evalue": "x should not exceed 5. The value of x was: 10",
     "output_type": "error",
     "traceback": [
      "\u001b[0;31m---------------------------------------------------------------------------\u001b[0m",
      "\u001b[0;31mException\u001b[0m                                 Traceback (most recent call last)",
      "Input \u001b[0;32mIn [21]\u001b[0m, in \u001b[0;36m<cell line: 2>\u001b[0;34m()\u001b[0m\n\u001b[1;32m      1\u001b[0m x \u001b[38;5;241m=\u001b[39m \u001b[38;5;241m10\u001b[39m\n\u001b[1;32m      2\u001b[0m \u001b[38;5;28;01mif\u001b[39;00m x \u001b[38;5;241m>\u001b[39m \u001b[38;5;241m5\u001b[39m:\n\u001b[0;32m----> 3\u001b[0m     \u001b[38;5;28;01mraise\u001b[39;00m \u001b[38;5;167;01mException\u001b[39;00m(\u001b[38;5;124m'\u001b[39m\u001b[38;5;124mx should not exceed 5. The value of x was: \u001b[39m\u001b[38;5;132;01m{}\u001b[39;00m\u001b[38;5;124m'\u001b[39m\u001b[38;5;241m.\u001b[39mformat(x))\n",
      "\u001b[0;31mException\u001b[0m: x should not exceed 5. The value of x was: 10"
     ]
    }
   ],
   "source": [
    "x = 10\n",
    "if x > 5:\n",
    "    raise Exception('x should not exceed 5. The value of x was: {}'.format(x))"
   ]
  },
  {
   "cell_type": "markdown",
   "id": "8d11c224",
   "metadata": {},
   "source": [
    "## The AssertionError Exception\n",
    "\n",
    "Instead of waiting for a program to crash midway, you can also start by making an assertion in Python. We assert that a certain condition is met. If this condition turns out to be True, then that is excellent! The program can continue. If the condition turns out to be False, you can have the program throw an AssertionError exception. The program comes to a halt and displays our exception to screen, offering clues about what went wrong."
   ]
  },
  {
   "cell_type": "code",
   "execution_count": 24,
   "id": "c6c08f39",
   "metadata": {},
   "outputs": [
    {
     "ename": "AssertionError",
     "evalue": "x is indded lesser than 10",
     "output_type": "error",
     "traceback": [
      "\u001b[0;31m---------------------------------------------------------------------------\u001b[0m",
      "\u001b[0;31mAssertionError\u001b[0m                            Traceback (most recent call last)",
      "Input \u001b[0;32mIn [24]\u001b[0m, in \u001b[0;36m<cell line: 2>\u001b[0;34m()\u001b[0m\n\u001b[1;32m      1\u001b[0m x \u001b[38;5;241m=\u001b[39m \u001b[38;5;241m10\u001b[39m\n\u001b[0;32m----> 2\u001b[0m \u001b[38;5;28;01massert\u001b[39;00m (x\u001b[38;5;241m<\u001b[39m\u001b[38;5;241m5\u001b[39m), \u001b[38;5;124m\"\u001b[39m\u001b[38;5;124mx is indded lesser than 10\u001b[39m\u001b[38;5;124m\"\u001b[39m\n",
      "\u001b[0;31mAssertionError\u001b[0m: x is indded lesser than 10"
     ]
    }
   ],
   "source": [
    "x = 10\n",
    "assert (x<5), \"x is indeed greater than 10\""
   ]
  },
  {
   "cell_type": "markdown",
   "id": "c61f0c8c",
   "metadata": {},
   "source": [
    "## The try and except Block: Handling Exceptions\n",
    "if we dont want the program to terminate when an exception is encountered. Without a try-except block, the last line wouldn’t be reached as the program would crash."
   ]
  },
  {
   "cell_type": "code",
   "execution_count": 7,
   "id": "73dc7fd5",
   "metadata": {},
   "outputs": [
    {
     "name": "stdout",
     "output_type": "stream",
     "text": [
      "Divided by zero\n",
      "Should reach here\n"
     ]
    }
   ],
   "source": [
    "try: \n",
    "    1 / 0\n",
    "except ZeroDivisionError: \n",
    "    print('Divided by zero')\n",
    "\n",
    "print('Should reach here')"
   ]
  },
  {
   "cell_type": "code",
   "execution_count": 31,
   "id": "2a259ab9",
   "metadata": {},
   "outputs": [
    {
     "name": "stdout",
     "output_type": "stream",
     "text": [
      "Doing something.\n"
     ]
    }
   ],
   "source": [
    "import sys\n",
    "def linux_interaction():\n",
    "    assert ('linux' in sys.platform), \"Function can only run on Linux systems.\"\n",
    "    print('Doing something.')\n",
    "    \n",
    "linux_interaction()"
   ]
  },
  {
   "cell_type": "code",
   "execution_count": 28,
   "id": "04f682ea",
   "metadata": {},
   "outputs": [
    {
     "name": "stdout",
     "output_type": "stream",
     "text": [
      "Function can only run on Linux systems.\n",
      "The linux_interaction() function was not executed\n"
     ]
    }
   ],
   "source": [
    "try:\n",
    "    linux_interaction()\n",
    "except AssertionError as error:\n",
    "    print(error)\n",
    "    print('The linux_interaction() function was not executed')"
   ]
  },
  {
   "cell_type": "code",
   "execution_count": 32,
   "id": "55b2d6f9",
   "metadata": {},
   "outputs": [
    {
     "name": "stdout",
     "output_type": "stream",
     "text": [
      "Doing something.\n",
      "[Errno 2] No such file or directory: 'file.log'\n"
     ]
    }
   ],
   "source": [
    "try:\n",
    "    linux_interaction()\n",
    "    with open('file.log') as file:\n",
    "        read_data = file.read()\n",
    "except FileNotFoundError as fnf_error:\n",
    "    print(fnf_error)\n",
    "except AssertionError as error:\n",
    "    print(error)\n",
    "    print('Linux linux_interaction() function was not executed')"
   ]
  },
  {
   "cell_type": "code",
   "execution_count": 29,
   "id": "bc3d9513",
   "metadata": {},
   "outputs": [
    {
     "name": "stdout",
     "output_type": "stream",
     "text": [
      "[Errno 2] No such file or directory: 'file.log'\n"
     ]
    }
   ],
   "source": [
    "try:\n",
    "    with open('file.log') as file:\n",
    "        read_data = file.read()\n",
    "except FileNotFoundError as fnf_error:\n",
    "    print(fnf_error)"
   ]
  },
  {
   "cell_type": "code",
   "execution_count": 15,
   "id": "f9380edb",
   "metadata": {},
   "outputs": [
    {
     "name": "stdout",
     "output_type": "stream",
     "text": [
      "An error occurred: Input must be a positive integer.\n"
     ]
    }
   ],
   "source": [
    "def process_positive_integer(number):\n",
    "    if number <= 0:\n",
    "        raise ValueError(\"Input must be a positive integer.\")\n",
    "    return number * 2\n",
    "\n",
    "\n",
    "\n",
    "try:\n",
    "    result = process_positive_integer(-5)\n",
    "except ValueError as e:\n",
    "    print(f\"An error occurred: {e}\")"
   ]
  },
  {
   "cell_type": "markdown",
   "id": "2c350710",
   "metadata": {},
   "source": [
    "## The else Clause\n",
    "In Python, using the else statement, you can instruct a program to execute a certain block of code only in the absence of exceptions."
   ]
  },
  {
   "cell_type": "code",
   "execution_count": 33,
   "id": "9eb522d0",
   "metadata": {},
   "outputs": [
    {
     "name": "stdout",
     "output_type": "stream",
     "text": [
      "Doing something.\n",
      "Executing the else clause.\n"
     ]
    }
   ],
   "source": [
    "try:\n",
    "    linux_interaction()\n",
    "except AssertionError as error:\n",
    "    print(error)\n",
    "else:\n",
    "    print('Executing the else clause.')"
   ]
  },
  {
   "cell_type": "code",
   "execution_count": 34,
   "id": "5adc9cf5",
   "metadata": {},
   "outputs": [
    {
     "name": "stdout",
     "output_type": "stream",
     "text": [
      "Doing something.\n",
      "[Errno 2] No such file or directory: 'file.log'\n"
     ]
    }
   ],
   "source": [
    "try:\n",
    "    linux_interaction()\n",
    "except AssertionError as error:\n",
    "    print(error)\n",
    "else:\n",
    "    try:\n",
    "        with open('file.log') as file:\n",
    "            read_data = file.read()\n",
    "    except FileNotFoundError as fnf_error:\n",
    "        print(fnf_error)"
   ]
  },
  {
   "cell_type": "code",
   "execution_count": 11,
   "id": "ff5eeec0",
   "metadata": {},
   "outputs": [
    {
     "name": "stdout",
     "output_type": "stream",
     "text": [
      "File not found: example.txt\n"
     ]
    }
   ],
   "source": [
    "filename = \"example.txt\"\n",
    "\n",
    "try:\n",
    "    with open(filename, \"r\") as file:\n",
    "        data = file.read()\n",
    "except FileNotFoundError:\n",
    "    print(f\"File not found: {filename}\")\n",
    "    # Handle the missing file here\n",
    "except IOError:\n",
    "    print(f\"An I/O error occurred while reading {filename}\")\n",
    "    # Handle the I/O error here\n",
    "else:\n",
    "    # Process the data from the file\n",
    "    print(f\"Successfully read data from {filename}\")"
   ]
  },
  {
   "cell_type": "markdown",
   "id": "723f821f",
   "metadata": {},
   "source": [
    "## Cleaning Up After Using finally\n",
    "Imagine that you always had to implement some sort of action to clean up after executing your code. Python enables you to do so using the finally clause.\n",
    "\n"
   ]
  },
  {
   "cell_type": "code",
   "execution_count": 8,
   "id": "6f6cf1d9",
   "metadata": {},
   "outputs": [
    {
     "name": "stdout",
     "output_type": "stream",
     "text": [
      "No exception occured\n",
      "We always do this\n"
     ]
    }
   ],
   "source": [
    "try:\n",
    "    x = 1\n",
    "except:\n",
    "    print('Failed to set x')\n",
    "else:\n",
    "    print('No exception occured')\n",
    "finally:\n",
    "    print('We always do this')"
   ]
  },
  {
   "cell_type": "code",
   "execution_count": 35,
   "id": "eafd0701",
   "metadata": {},
   "outputs": [
    {
     "name": "stdout",
     "output_type": "stream",
     "text": [
      "Doing something.\n",
      "[Errno 2] No such file or directory: 'file.log'\n",
      "Cleaning up, irrespective of any exceptions.\n"
     ]
    }
   ],
   "source": [
    "try:\n",
    "    linux_interaction()\n",
    "except AssertionError as error:\n",
    "    print(error)\n",
    "else:\n",
    "    try:\n",
    "        with open('file.log') as file:\n",
    "            read_data = file.read()\n",
    "    except FileNotFoundError as fnf_error:\n",
    "        print(fnf_error)\n",
    "finally:\n",
    "    print('Cleaning up, irrespective of any exceptions.')"
   ]
  },
  {
   "cell_type": "code",
   "execution_count": 17,
   "id": "1939f9df",
   "metadata": {},
   "outputs": [
    {
     "name": "stdout",
     "output_type": "stream",
     "text": [
      "error occured as:float division by zero\n",
      "2.5\n",
      "\u001b[92m function executed\u001b[00m\n"
     ]
    }
   ],
   "source": [
    "def divide(a, b):\n",
    "    try:\n",
    "        c = a/b\n",
    "    except ZeroDivisionError as e:\n",
    "        print(f'error occured as:{e}')\n",
    "        c = a/4.\n",
    "        print(c)\n",
    "        return c\n",
    "    else:\n",
    "        print(c)\n",
    "        return c\n",
    "    finally:\n",
    "        print('\\033[92m function executed\\033[00m')\n",
    "\n",
    "result = divide(10., 0)\n",
    "#result = divide(10, 5)"
   ]
  },
  {
   "cell_type": "code",
   "execution_count": 19,
   "id": "082d6fdd",
   "metadata": {},
   "outputs": [
    {
     "name": "stdout",
     "output_type": "stream",
     "text": [
      "[13.333333333333334, 21.666666666666668, 23.333333333333332, 29.0, 16.666666666666668]\n",
      "\u001b[92m Code by DataCamp\u001b[00m\n"
     ]
    }
   ],
   "source": [
    "def divide(x,y):\n",
    "    \n",
    "    try:\n",
    "        value = 50\n",
    "        x.append(value)\n",
    "    \n",
    "    except AttributeError as atr_err:\n",
    "        print(atr_err)\n",
    "        \n",
    "    else:\n",
    "        try:\n",
    "            result = [i / y for i in x]\n",
    "            print( result )\n",
    "        except ZeroDivisionError:\n",
    "            print(\"Please change 'y' argument to non-zero value\")\n",
    "\n",
    "    finally:\n",
    "        print(\"\\033[92m Code by DataCamp\\033[00m\")\n",
    "        \n",
    "        \n",
    "x = [40,65,70,87]\n",
    "divide(x,3)"
   ]
  },
  {
   "cell_type": "code",
   "execution_count": 21,
   "id": "947a2d7f",
   "metadata": {},
   "outputs": [
    {
     "name": "stdout",
     "output_type": "stream",
     "text": [
      "data_base.txt file is not found!!\n"
     ]
    }
   ],
   "source": [
    "def file_editor(path,text):\n",
    "    try:\n",
    "        data = open(path)\n",
    "\n",
    "        try:\n",
    "            data.write(text)\n",
    "\n",
    "        except:\n",
    "            print(\"Unable to write the data. Please add an append: 'a' or write: 'w' parameter to the open() function.\")\n",
    "\n",
    "        finally:\n",
    "            data.close()\n",
    "\n",
    "    except:\n",
    "        print(f\"{path} file is not found!!\")\n",
    "        \n",
    "        \n",
    "path = \"data_base.txt\"\n",
    "text = \"DataCamp Workspace: Share your data analysis in a cloud-based environment--no installation required.\"\n",
    "\n",
    "file_editor(path,text)"
   ]
  },
  {
   "cell_type": "markdown",
   "id": "90e196b4",
   "metadata": {},
   "source": [
    "# Raising custom exceptions\n"
   ]
  },
  {
   "cell_type": "code",
   "execution_count": 22,
   "id": "63f206b9",
   "metadata": {},
   "outputs": [
    {
     "ename": "ValueError",
     "evalue": "Please add a value lower than 1,000",
     "output_type": "error",
     "traceback": [
      "\u001b[0;31m---------------------------------------------------------------------------\u001b[0m",
      "\u001b[0;31mValueError\u001b[0m                                Traceback (most recent call last)",
      "Input \u001b[0;32mIn [22]\u001b[0m, in \u001b[0;36m<cell line: 2>\u001b[0;34m()\u001b[0m\n\u001b[1;32m      1\u001b[0m value \u001b[38;5;241m=\u001b[39m \u001b[38;5;241m2_000\u001b[39m\n\u001b[1;32m      2\u001b[0m \u001b[38;5;28;01mif\u001b[39;00m value \u001b[38;5;241m>\u001b[39m \u001b[38;5;241m1_000\u001b[39m:   \n\u001b[1;32m      3\u001b[0m     \u001b[38;5;66;03m# raise the ValueError\u001b[39;00m\n\u001b[0;32m----> 4\u001b[0m     \u001b[38;5;28;01mraise\u001b[39;00m \u001b[38;5;167;01mValueError\u001b[39;00m(\u001b[38;5;124m\"\u001b[39m\u001b[38;5;124mPlease add a value lower than 1,000\u001b[39m\u001b[38;5;124m\"\u001b[39m)\n\u001b[1;32m      5\u001b[0m \u001b[38;5;28;01melse\u001b[39;00m:\n\u001b[1;32m      6\u001b[0m     \u001b[38;5;28mprint\u001b[39m(\u001b[38;5;124m\"\u001b[39m\u001b[38;5;124mCongratulations! You are the winner!!\u001b[39m\u001b[38;5;124m\"\u001b[39m)\n",
      "\u001b[0;31mValueError\u001b[0m: Please add a value lower than 1,000"
     ]
    }
   ],
   "source": [
    "value = 2_000\n",
    "if value > 1_000:   \n",
    "    # raise the ValueError\n",
    "    raise ValueError(\"Please add a value lower than 1,000\")\n",
    "else:\n",
    "    print(\"Congratulations! You are the winner!!\")"
   ]
  },
  {
   "cell_type": "code",
   "execution_count": 23,
   "id": "f3b7830d",
   "metadata": {},
   "outputs": [
    {
     "name": "stdout",
     "output_type": "stream",
     "text": [
      "Please add a value lower than 1,000\n"
     ]
    }
   ],
   "source": [
    "value = 2_000\n",
    "try:\n",
    "    if value > 1_000:\n",
    "          \n",
    "        # raise the ValueError\n",
    "        raise ValueError(\"Please add a value lower than 1,000\")\n",
    "    else:\n",
    "        print(\"Congratulations! You are the winner!!\")\n",
    "              \n",
    "# if false then raise the value error\n",
    "except ValueError as e:\n",
    "        print(e)"
   ]
  },
  {
   "cell_type": "code",
   "execution_count": 16,
   "id": "54ddd53e",
   "metadata": {},
   "outputs": [
    {
     "name": "stdout",
     "output_type": "stream",
     "text": [
      "An error occurred: Negative numbers are not allowed: -5\n"
     ]
    }
   ],
   "source": [
    "class NegativeNumberError(Exception):\n",
    "    def __init__(self, value):\n",
    "        self.value = value\n",
    "\n",
    "    def __str__(self):\n",
    "        return f\"Negative numbers are not allowed: {self.value}\"\n",
    "\n",
    "def process_positive_number(number):\n",
    "    if number < 0:\n",
    "        raise NegativeNumberError(number)\n",
    "    return number * 2\n",
    "\n",
    "try:\n",
    "    result = process_positive_number(-5)\n",
    "except NegativeNumberError as e:\n",
    "    print(f\"An error occurred: {e}\")"
   ]
  },
  {
   "cell_type": "markdown",
   "id": "d71ddb2d",
   "metadata": {},
   "source": [
    "# Using Python’s logging module\n"
   ]
  },
  {
   "cell_type": "code",
   "execution_count": 1,
   "id": "22a63df9",
   "metadata": {},
   "outputs": [],
   "source": [
    "import logging\n",
    "\n",
    "# Configure the logging settings\n",
    "logging.basicConfig(filename=\"file.log\", level=logging.DEBUG, filemode='w', format=\"%(asctime)s - %(name)s -%(levelname)s - %(message)s\"\n",
    "                   , datefmt='%d-%b-%y %H:%M:%S')\n",
    "\n",
    "# Log messages with different severity levels\n",
    "logging.debug(\"This is a debug message\")\n",
    "logging.info(\"This is an info message\")\n",
    "logging.warning(\"This is a warning message\")\n",
    "logging.error(\"This is an error message\")\n",
    "logging.critical(\"This is a critical message\")\n"
   ]
  },
  {
   "cell_type": "code",
   "execution_count": 2,
   "id": "2ec56972",
   "metadata": {},
   "outputs": [],
   "source": [
    "def divide(a, b):\n",
    "    try:\n",
    "        result = a / b\n",
    "    except ZeroDivisionError:\n",
    "        logging.exception(\"Attempted division by zero\")\n",
    "    else:\n",
    "        return result\n",
    "\n",
    "#divide(10, 2)\n",
    "divide(10, 0)"
   ]
  },
  {
   "cell_type": "code",
   "execution_count": 4,
   "id": "3943fa1d",
   "metadata": {},
   "outputs": [],
   "source": [
    "def divide(a, b):\n",
    "    try:\n",
    "        result = a / b\n",
    "    except Exception as e:\n",
    "          logging.error(\"Exception occurred\", exc_info=True)\n",
    "    else:\n",
    "        return result\n",
    "\n",
    "#divide(10, 2)\n",
    "divide(10, 0)"
   ]
  },
  {
   "cell_type": "code",
   "execution_count": 20,
   "id": "0d47a580",
   "metadata": {},
   "outputs": [
    {
     "name": "stdout",
     "output_type": "stream",
     "text": [
      "File not found: example.txt\n"
     ]
    }
   ],
   "source": [
    "filename = \"example.txt\"\n",
    "\n",
    "try:\n",
    "    with open(filename, \"r\") as file:\n",
    "        data = file.read()\n",
    "except FileNotFoundError as e:\n",
    "    print(f\"File not found: {filename}\")\n",
    "    # Handle the missing file here\n",
    "except PermissionError as e:\n",
    "    print(f\"Permission denied for file: {filename}\")\n",
    "    # Handle the permission error here\n",
    "except IOError as e:\n",
    "    print(f\"An I/O error occurred while reading {filename}: {e}\")\n",
    "    # Handle the I/O error here\n",
    "else:\n",
    "    # Process the file data\n",
    "    print(data)"
   ]
  },
  {
   "cell_type": "markdown",
   "id": "b306f3c7",
   "metadata": {},
   "source": [
    "## Logging Examples"
   ]
  },
  {
   "cell_type": "code",
   "execution_count": null,
   "id": "6c5c7611",
   "metadata": {},
   "outputs": [],
   "source": []
  }
 ],
 "metadata": {
  "kernelspec": {
   "display_name": "Python 3 (ipykernel)",
   "language": "python",
   "name": "python3"
  },
  "language_info": {
   "codemirror_mode": {
    "name": "ipython",
    "version": 3
   },
   "file_extension": ".py",
   "mimetype": "text/x-python",
   "name": "python",
   "nbconvert_exporter": "python",
   "pygments_lexer": "ipython3",
   "version": "3.9.12"
  }
 },
 "nbformat": 4,
 "nbformat_minor": 5
}
